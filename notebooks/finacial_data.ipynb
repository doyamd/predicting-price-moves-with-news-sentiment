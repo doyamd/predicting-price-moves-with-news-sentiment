{
 "cells": [
  {
   "cell_type": "code",
   "execution_count": null,
   "id": "52174f93",
   "metadata": {},
   "outputs": [],
   "source": [
    "import pandas as pd\n",
    "from ta.trend import SMAIndicator, MACD\n",
    "from ta.momentum import RSIIndicator\n",
    "import pynance as pn\n",
    "import matplotlib.pyplot as plt\n",
    "import seaborn as sns\n"
   ]
  },
  {
   "cell_type": "code",
   "execution_count": 2,
   "id": "1ca89e55",
   "metadata": {},
   "outputs": [],
   "source": [
    "#loading the datas\n",
    "file_paths = {\n",
    "    'AAPL': '../data/AAPL_historical_data.csv',\n",
    "    'GOOGL': '../data/AMZN_historical_data.csv',\n",
    "    'AMZN': '../data/GOOG_historical_data.csv',\n",
    "    'MSFT': '../data/META_historical_data.csv',\n",
    "    'TSLA': '../data/MSFT_historical_data.csv',\n",
    "    'META': '../data/NVDA_historical_data.csv',\n",
    "    'NFLX': '../data/TSLA_historical_data.csv'\n",
    "}\n",
    "\n",
    "stock_data = {}\n",
    "\n",
    "for company, path in file_paths.items():\n",
    "    df = pd.read_csv(path, parse_dates=['Date'])\n",
    "    df.set_index('Date', inplace=True) \n",
    "    stock_data[company] = df\n"
   ]
  },
  {
   "cell_type": "code",
   "execution_count": 3,
   "id": "95966d99",
   "metadata": {},
   "outputs": [
    {
     "name": "stdout",
     "output_type": "stream",
     "text": [
      "AAPL: 0 missing values after dropping\n",
      "GOOGL: 0 missing values after dropping\n",
      "AMZN: 0 missing values after dropping\n",
      "MSFT: 0 missing values after dropping\n",
      "TSLA: 0 missing values after dropping\n",
      "META: 0 missing values after dropping\n",
      "NFLX: 0 missing values after dropping\n"
     ]
    }
   ],
   "source": [
    "#cleaning - drop any missing datasets\n",
    "for name, df in stock_data.items():\n",
    "    stock_data[name] = df.dropna()\n",
    "    print(f\"{name}: {stock_data[name].isnull().sum().sum()} missing values after dropping\")\n"
   ]
  },
  {
   "cell_type": "code",
   "execution_count": 4,
   "id": "da4bfdbe",
   "metadata": {},
   "outputs": [],
   "source": [
    "#technical indicators\n",
    "def apply_technical_indicators(df, window_sma=20, window_rsi=14):\n",
    "    df = df.copy()\n",
    "    \n",
    "    # SMA\n",
    "    sma = SMAIndicator(close=df['Close'], window=window_sma)\n",
    "    df['SMA'] = sma.sma_indicator()\n",
    "    \n",
    "    # RSI\n",
    "    rsi = RSIIndicator(close=df['Close'], window=window_rsi)\n",
    "    df['RSI'] = rsi.rsi()\n",
    "    \n",
    "    # MACD\n",
    "    macd = MACD(close=df['Close'])\n",
    "    df['MACD'] = macd.macd()\n",
    "    df['MACD_signal'] = macd.macd_signal()\n",
    "    df['MACD_diff'] = macd.macd_diff()\n",
    "    \n",
    "    return df.dropna()"
   ]
  },
  {
   "cell_type": "code",
   "execution_count": 5,
   "id": "cba9def3",
   "metadata": {},
   "outputs": [],
   "source": [
    "#apply for all companies\n",
    "for company in stock_data:\n",
    "    stock_data[company] = apply_technical_indicators(stock_data[company])"
   ]
  },
  {
   "cell_type": "code",
   "execution_count": 7,
   "id": "218e5080",
   "metadata": {},
   "outputs": [],
   "source": [
    "tickers = ['AAPL', 'GOOGL', 'AMZN', 'MSFT', 'TSLA', 'META', 'NFLX']\n",
    "stock_metrics = {}\n",
    "\n",
    "for ticker in tickers:\n",
    "    df = pn.data.get(ticker, start='2022-01-01', end='2023-01-01')\n",
    "    daily_returns = df['Close'].pct_change()\n",
    "    stock_metrics[ticker] = {\n",
    "        'data': df,\n",
    "        'daily_returns': daily_returns,\n",
    "        'cumulative_returns': (1 + daily_returns).cumprod(),\n",
    "        'volatility': daily_returns.std(),\n",
    "        'rolling_mean': df['Close'].rolling(20).mean(),\n",
    "        'rolling_std': df['Close'].rolling(20).std()\n",
    "    }\n"
   ]
  },
  {
   "cell_type": "code",
   "execution_count": null,
   "id": "84055d2e",
   "metadata": {},
   "outputs": [],
   "source": []
  }
 ],
 "metadata": {
  "kernelspec": {
   "display_name": "Python (env)",
   "language": "python",
   "name": "env"
  },
  "language_info": {
   "codemirror_mode": {
    "name": "ipython",
    "version": 3
   },
   "file_extension": ".py",
   "mimetype": "text/x-python",
   "name": "python",
   "nbconvert_exporter": "python",
   "pygments_lexer": "ipython3",
   "version": "3.12.2"
  }
 },
 "nbformat": 4,
 "nbformat_minor": 5
}
