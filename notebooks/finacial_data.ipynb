{
 "cells": [
  {
   "cell_type": "code",
   "execution_count": 1,
   "id": "52174f93",
   "metadata": {},
   "outputs": [],
   "source": [
    "import pandas as pd\n",
    "import os"
   ]
  },
  {
   "cell_type": "code",
   "execution_count": 2,
   "id": "1ca89e55",
   "metadata": {},
   "outputs": [],
   "source": [
    "#loading the datas\n",
    "file_paths = {\n",
    "    'AAPL': '../data/AAPL_historical_data.csv',\n",
    "    'GOOGL': '../data/AMZN_historical_data.csv',\n",
    "    'AMZN': '../data/GOOG_historical_data.csv',\n",
    "    'MSFT': '../data/META_historical_data.csv',\n",
    "    'TSLA': '../data/MSFT_historical_data.csv',\n",
    "    'META': '../data/NVDA_historical_data.csv',\n",
    "    'NFLX': '../data/TSLA_historical_data.csv'\n",
    "}\n",
    "\n",
    "stock_data = {}\n",
    "\n",
    "for company, path in file_paths.items():\n",
    "    df = pd.read_csv(path, parse_dates=['Date'])\n",
    "    df.set_index('Date', inplace=True) \n",
    "    stock_data[company] = df\n"
   ]
  },
  {
   "cell_type": "code",
   "execution_count": 3,
   "id": "95966d99",
   "metadata": {},
   "outputs": [
    {
     "name": "stdout",
     "output_type": "stream",
     "text": [
      "AAPL: 0 missing values after dropping\n",
      "GOOGL: 0 missing values after dropping\n",
      "AMZN: 0 missing values after dropping\n",
      "MSFT: 0 missing values after dropping\n",
      "TSLA: 0 missing values after dropping\n",
      "META: 0 missing values after dropping\n",
      "NFLX: 0 missing values after dropping\n"
     ]
    }
   ],
   "source": [
    "#cleaning - drop any missing datasets\n",
    "\n",
    "for name, df in stock_data.items():\n",
    "    stock_data[name] = df.dropna()\n",
    "    print(f\"{name}: {stock_data[name].isnull().sum().sum()} missing values after dropping\")\n"
   ]
  }
 ],
 "metadata": {
  "kernelspec": {
   "display_name": "Python 3",
   "language": "python",
   "name": "python3"
  },
  "language_info": {
   "codemirror_mode": {
    "name": "ipython",
    "version": 3
   },
   "file_extension": ".py",
   "mimetype": "text/x-python",
   "name": "python",
   "nbconvert_exporter": "python",
   "pygments_lexer": "ipython3",
   "version": "3.12.2"
  }
 },
 "nbformat": 4,
 "nbformat_minor": 5
}
